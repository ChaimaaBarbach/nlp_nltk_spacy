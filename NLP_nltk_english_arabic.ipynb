{
 "cells": [
  {
   "cell_type": "markdown",
   "id": "ec5d1abe",
   "metadata": {},
   "source": [
    "###  NLP using NLTK"
   ]
  },
  {
   "cell_type": "markdown",
   "id": "309fbf54",
   "metadata": {},
   "source": [
    "##### Importing Libraries"
   ]
  },
  {
   "cell_type": "code",
   "execution_count": 1,
   "id": "37317c4a",
   "metadata": {},
   "outputs": [],
   "source": [
    "import nltk, string"
   ]
  },
  {
   "cell_type": "markdown",
   "id": "2a95040c",
   "metadata": {},
   "source": [
    "##### Testing text data"
   ]
  },
  {
   "cell_type": "code",
   "execution_count": 2,
   "id": "263d4370",
   "metadata": {},
   "outputs": [],
   "source": [
    "text_english = \"\"\"Perhaps one of the most significant advances made by Arabic mathematics began at this time with the work of al-Khwarizmi, namely the beginnings of algebra. It is important to understand just how significant this new idea was. It was a revolutionary move away from the Greek concept of mathematics which was essentially geometry. Algebra was a unifying theory which allowedrational numbers,irrational numbers, geometrical magnitudes, etc., to all be treated as \\\"algebraic objects\\\". It gave mathematics a whole new development path so much broader in concept to that which had existed before, and provided a vehicle for future development of the subject. Another important aspect of the introduction of algebraic ideas was that it allowed mathematics to be applied to itselfin a way which had not happened before.\"\"\""
   ]
  },
  {
   "cell_type": "code",
   "execution_count": 3,
   "id": "52c1faa9",
   "metadata": {},
   "outputs": [
    {
     "data": {
      "text/plain": [
       "'Perhaps one of the most significant advances made by Arabic mathematics began at this time with the work of al-Khwarizmi, namely the beginnings of algebra. It is important to understand just how significant this new idea was. It was a revolutionary move away from the Greek concept of mathematics which was essentially geometry. Algebra was a unifying theory which allowedrational numbers,irrational numbers, geometrical magnitudes, etc., to all be treated as \"algebraic objects\". It gave mathematics a whole new development path so much broader in concept to that which had existed before, and provided a vehicle for future development of the subject. Another important aspect of the introduction of algebraic ideas was that it allowed mathematics to be applied to itselfin a way which had not happened before.'"
      ]
     },
     "execution_count": 3,
     "metadata": {},
     "output_type": "execute_result"
    }
   ],
   "source": [
    "text_english"
   ]
  },
  {
   "cell_type": "code",
   "execution_count": 4,
   "id": "40da822b",
   "metadata": {},
   "outputs": [],
   "source": [
    "text_arabic =\"\"\"ربما كانت أحد أهم التطورات التي قامت بها الرياضيات العربية التي بدأت في هذا الوقت بعمل الخوارزمي وهي بدايات الجبر, ومن المهم فهم كيف كانت هذه الفكرة الجديدة مهمة, فقد كانت خطوة نورية بعيدا عن المفهوم اليوناني للرياضيات التي هي في جوهرها هندسة, الجبر کان نظرية موحدة تتيح الأعداد الكسرية والأعداد اللا كسرية, والمقادير الهندسية وغيرها, أن تتعامل على أنها أجسام جبرية, وأعطت الرياضيات ككل مسارا جديدا للتطور بمفهوم أوسع بكثير من الذي كان موجودا من قبل, وقم وسيلة للتنمية في هذا الموضوع مستقبلا. وجانب آخر مهم لإدخال أفكار الجبر وهو أنه سمح بتطبيق الرياضيات على نفسها بطريقة لم تحدث من قبل\"\"\""
   ]
  },
  {
   "cell_type": "code",
   "execution_count": 5,
   "id": "b7f08aae",
   "metadata": {},
   "outputs": [
    {
     "data": {
      "text/plain": [
       "'ربما كانت أحد أهم التطورات التي قامت بها الرياضيات العربية التي بدأت في هذا الوقت بعمل الخوارزمي وهي بدايات الجبر, ومن المهم فهم كيف كانت هذه الفكرة الجديدة مهمة, فقد كانت خطوة نورية بعيدا عن المفهوم اليوناني للرياضيات التي هي في جوهرها هندسة, الجبر کان نظرية موحدة تتيح الأعداد الكسرية والأعداد اللا كسرية, والمقادير الهندسية وغيرها, أن تتعامل على أنها أجسام جبرية, وأعطت الرياضيات ككل مسارا جديدا للتطور بمفهوم أوسع بكثير من الذي كان موجودا من قبل, وقم وسيلة للتنمية في هذا الموضوع مستقبلا. وجانب آخر مهم لإدخال أفكار الجبر وهو أنه سمح بتطبيق الرياضيات على نفسها بطريقة لم تحدث من قبل'"
      ]
     },
     "execution_count": 5,
     "metadata": {},
     "output_type": "execute_result"
    }
   ],
   "source": [
    "text_arabic"
   ]
  },
  {
   "cell_type": "markdown",
   "id": "e96e5838",
   "metadata": {},
   "source": [
    "### Data Cleaning"
   ]
  },
  {
   "cell_type": "code",
   "execution_count": 6,
   "id": "c1bba675",
   "metadata": {},
   "outputs": [],
   "source": [
    "text_english= text_english.lower()"
   ]
  },
  {
   "cell_type": "code",
   "execution_count": 7,
   "id": "3f71392d",
   "metadata": {},
   "outputs": [
    {
     "data": {
      "text/plain": [
       "'perhaps one of the most significant advances made by arabic mathematics began at this time with the work of al-khwarizmi, namely the beginnings of algebra. it is important to understand just how significant this new idea was. it was a revolutionary move away from the greek concept of mathematics which was essentially geometry. algebra was a unifying theory which allowedrational numbers,irrational numbers, geometrical magnitudes, etc., to all be treated as \"algebraic objects\". it gave mathematics a whole new development path so much broader in concept to that which had existed before, and provided a vehicle for future development of the subject. another important aspect of the introduction of algebraic ideas was that it allowed mathematics to be applied to itselfin a way which had not happened before.'"
      ]
     },
     "execution_count": 7,
     "metadata": {},
     "output_type": "execute_result"
    }
   ],
   "source": [
    "text_english"
   ]
  },
  {
   "cell_type": "markdown",
   "id": "ec85f182",
   "metadata": {},
   "source": [
    "### Tokenization"
   ]
  },
  {
   "cell_type": "markdown",
   "id": "f04da012",
   "metadata": {},
   "source": [
    "##### Tokenization in NLP is the process by which a large quantity of text is divided into smaller parts called tokens"
   ]
  },
  {
   "cell_type": "code",
   "execution_count": 8,
   "id": "25314d6a",
   "metadata": {},
   "outputs": [],
   "source": [
    "from nltk.tokenize import sent_tokenize, word_tokenize"
   ]
  },
  {
   "cell_type": "code",
   "execution_count": 9,
   "id": "45066d5a",
   "metadata": {},
   "outputs": [
    {
     "name": "stderr",
     "output_type": "stream",
     "text": [
      "[nltk_data] Downloading package punkt to\n",
      "[nltk_data]     C:\\Users\\admin\\AppData\\Roaming\\nltk_data...\n",
      "[nltk_data]   Package punkt is already up-to-date!\n"
     ]
    },
    {
     "data": {
      "text/plain": [
       "True"
      ]
     },
     "execution_count": 9,
     "metadata": {},
     "output_type": "execute_result"
    }
   ],
   "source": [
    "nltk.download('punkt')"
   ]
  },
  {
   "cell_type": "markdown",
   "id": "8be17cec",
   "metadata": {},
   "source": [
    "##### Tokenization by word"
   ]
  },
  {
   "cell_type": "code",
   "execution_count": 10,
   "id": "0ae876a9",
   "metadata": {},
   "outputs": [],
   "source": [
    "words_english= word_tokenize(text_english)\n",
    "words_arabic= nltk.word_tokenize(text_arabic)"
   ]
  },
  {
   "cell_type": "markdown",
   "id": "8f759788",
   "metadata": {},
   "source": [
    "###### We use the method word_tokenize() to split a sentence into words. The output of word tokenizer in NLTK can be converted to Data Frame for better text understanding in machine learning applications"
   ]
  },
  {
   "cell_type": "markdown",
   "id": "18f91ce9",
   "metadata": {},
   "source": [
    "##### Tokenization by sentence"
   ]
  },
  {
   "cell_type": "markdown",
   "id": "8c31e418",
   "metadata": {},
   "source": [
    "##### Sub-module available for the above is sent_tokenize. Sentence tokenizer in Python NLTK is an important feature for machine training"
   ]
  },
  {
   "cell_type": "code",
   "execution_count": 11,
   "id": "d5d1e59c",
   "metadata": {},
   "outputs": [],
   "source": [
    "sentence_english= sent_tokenize(text_english)\n",
    "sentence_arabic= sent_tokenize(text_arabic)"
   ]
  },
  {
   "cell_type": "code",
   "execution_count": 12,
   "id": "e788a6bd",
   "metadata": {},
   "outputs": [
    {
     "data": {
      "text/plain": [
       "['perhaps one of the most significant advances made by arabic mathematics began at this time with the work of al-khwarizmi, namely the beginnings of algebra.',\n",
       " 'it is important to understand just how significant this new idea was.',\n",
       " 'it was a revolutionary move away from the greek concept of mathematics which was essentially geometry.',\n",
       " 'algebra was a unifying theory which allowedrational numbers,irrational numbers, geometrical magnitudes, etc., to all be treated as \"algebraic objects\".',\n",
       " 'it gave mathematics a whole new development path so much broader in concept to that which had existed before, and provided a vehicle for future development of the subject.',\n",
       " 'another important aspect of the introduction of algebraic ideas was that it allowed mathematics to be applied to itselfin a way which had not happened before.']"
      ]
     },
     "execution_count": 12,
     "metadata": {},
     "output_type": "execute_result"
    }
   ],
   "source": [
    "sentence_english"
   ]
  },
  {
   "cell_type": "code",
   "execution_count": 13,
   "id": "609f6f95",
   "metadata": {},
   "outputs": [
    {
     "data": {
      "text/plain": [
       "['ربما كانت أحد أهم التطورات التي قامت بها الرياضيات العربية التي بدأت في هذا الوقت بعمل الخوارزمي وهي بدايات الجبر, ومن المهم فهم كيف كانت هذه الفكرة الجديدة مهمة, فقد كانت خطوة نورية بعيدا عن المفهوم اليوناني للرياضيات التي هي في جوهرها هندسة, الجبر کان نظرية موحدة تتيح الأعداد الكسرية والأعداد اللا كسرية, والمقادير الهندسية وغيرها, أن تتعامل على أنها أجسام جبرية, وأعطت الرياضيات ككل مسارا جديدا للتطور بمفهوم أوسع بكثير من الذي كان موجودا من قبل, وقم وسيلة للتنمية في هذا الموضوع مستقبلا.',\n",
       " 'وجانب آخر مهم لإدخال أفكار الجبر وهو أنه سمح بتطبيق الرياضيات على نفسها بطريقة لم تحدث من قبل']"
      ]
     },
     "execution_count": 13,
     "metadata": {},
     "output_type": "execute_result"
    }
   ],
   "source": [
    "sentence_arabic"
   ]
  },
  {
   "cell_type": "markdown",
   "id": "c4cd759f",
   "metadata": {},
   "source": [
    "### Filtering Stop Words"
   ]
  },
  {
   "cell_type": "markdown",
   "id": "608be0cb",
   "metadata": {},
   "source": [
    "##### In natural language processing, useless words (data), are referred to as stop words. \n",
    "##### Stop Words: A stop word is a commonly used word (such as “the”, “a”, “an”, “in”) that a search engine has been programmed to ignore, both when indexing entries for searching and when retrieving them as the result of a search query. "
   ]
  },
  {
   "cell_type": "code",
   "execution_count": 14,
   "id": "00fa314c",
   "metadata": {},
   "outputs": [
    {
     "name": "stderr",
     "output_type": "stream",
     "text": [
      "[nltk_data] Downloading package stopwords to\n",
      "[nltk_data]     C:\\Users\\admin\\AppData\\Roaming\\nltk_data...\n",
      "[nltk_data]   Package stopwords is already up-to-date!\n"
     ]
    },
    {
     "data": {
      "text/plain": [
       "True"
      ]
     },
     "execution_count": 14,
     "metadata": {},
     "output_type": "execute_result"
    }
   ],
   "source": [
    "nltk.download(\"stopwords\")"
   ]
  },
  {
   "cell_type": "code",
   "execution_count": 15,
   "id": "80607c1b",
   "metadata": {},
   "outputs": [],
   "source": [
    "from nltk.corpus import stopwords"
   ]
  },
  {
   "cell_type": "code",
   "execution_count": 16,
   "id": "89e58a95",
   "metadata": {},
   "outputs": [],
   "source": [
    "stop_words_english = set(stopwords.words(\"english\"))\n",
    "stop_words_arabic = set(stopwords.words(\"arabic\"))"
   ]
  },
  {
   "cell_type": "code",
   "execution_count": 17,
   "id": "d4b19cdf",
   "metadata": {},
   "outputs": [
    {
     "data": {
      "text/plain": [
       "['perhaps',\n",
       " 'one',\n",
       " 'significant',\n",
       " 'advances',\n",
       " 'made',\n",
       " 'arabic',\n",
       " 'mathematics',\n",
       " 'began',\n",
       " 'time',\n",
       " 'work',\n",
       " 'al-khwarizmi',\n",
       " ',',\n",
       " 'namely',\n",
       " 'beginnings',\n",
       " 'algebra',\n",
       " '.',\n",
       " 'important',\n",
       " 'understand',\n",
       " 'significant',\n",
       " 'new',\n",
       " 'idea',\n",
       " '.',\n",
       " 'revolutionary',\n",
       " 'move',\n",
       " 'away',\n",
       " 'greek',\n",
       " 'concept',\n",
       " 'mathematics',\n",
       " 'essentially',\n",
       " 'geometry',\n",
       " '.',\n",
       " 'algebra',\n",
       " 'unifying',\n",
       " 'theory',\n",
       " 'allowedrational',\n",
       " 'numbers',\n",
       " ',',\n",
       " 'irrational',\n",
       " 'numbers',\n",
       " ',',\n",
       " 'geometrical',\n",
       " 'magnitudes',\n",
       " ',',\n",
       " 'etc.',\n",
       " ',',\n",
       " 'treated',\n",
       " '``',\n",
       " 'algebraic',\n",
       " 'objects',\n",
       " \"''\",\n",
       " '.',\n",
       " 'gave',\n",
       " 'mathematics',\n",
       " 'whole',\n",
       " 'new',\n",
       " 'development',\n",
       " 'path',\n",
       " 'much',\n",
       " 'broader',\n",
       " 'concept',\n",
       " 'existed',\n",
       " ',',\n",
       " 'provided',\n",
       " 'vehicle',\n",
       " 'future',\n",
       " 'development',\n",
       " 'subject',\n",
       " '.',\n",
       " 'another',\n",
       " 'important',\n",
       " 'aspect',\n",
       " 'introduction',\n",
       " 'algebraic',\n",
       " 'ideas',\n",
       " 'allowed',\n",
       " 'mathematics',\n",
       " 'applied',\n",
       " 'itselfin',\n",
       " 'way',\n",
       " 'happened',\n",
       " '.']"
      ]
     },
     "execution_count": 17,
     "metadata": {},
     "output_type": "execute_result"
    }
   ],
   "source": [
    "# English Text\n",
    "filter_text_english= []\n",
    "for word in words_english:\n",
    "    if word.casefold() not in stop_words_english:\n",
    "        filter_text_english.append(word)\n",
    "\n",
    "filter_text_english"
   ]
  },
  {
   "cell_type": "code",
   "execution_count": 18,
   "id": "a165e7ce",
   "metadata": {},
   "outputs": [
    {
     "data": {
      "text/plain": [
       "['ربما',\n",
       " 'كانت',\n",
       " 'أحد',\n",
       " 'أهم',\n",
       " 'التطورات',\n",
       " 'قامت',\n",
       " 'الرياضيات',\n",
       " 'العربية',\n",
       " 'بدأت',\n",
       " 'الوقت',\n",
       " 'بعمل',\n",
       " 'الخوارزمي',\n",
       " 'وهي',\n",
       " 'بدايات',\n",
       " 'الجبر',\n",
       " ',',\n",
       " 'المهم',\n",
       " 'فهم',\n",
       " 'كانت',\n",
       " 'الفكرة',\n",
       " 'الجديدة',\n",
       " 'مهمة',\n",
       " ',',\n",
       " 'فقد',\n",
       " 'كانت',\n",
       " 'خطوة',\n",
       " 'نورية',\n",
       " 'بعيدا',\n",
       " 'المفهوم',\n",
       " 'اليوناني',\n",
       " 'للرياضيات',\n",
       " 'جوهرها',\n",
       " 'هندسة',\n",
       " ',',\n",
       " 'الجبر',\n",
       " 'کان',\n",
       " 'نظرية',\n",
       " 'موحدة',\n",
       " 'تتيح',\n",
       " 'الأعداد',\n",
       " 'الكسرية',\n",
       " 'والأعداد',\n",
       " 'اللا',\n",
       " 'كسرية',\n",
       " ',',\n",
       " 'والمقادير',\n",
       " 'الهندسية',\n",
       " 'وغيرها',\n",
       " ',',\n",
       " 'تتعامل',\n",
       " 'أنها',\n",
       " 'أجسام',\n",
       " 'جبرية',\n",
       " ',',\n",
       " 'وأعطت',\n",
       " 'الرياضيات',\n",
       " 'ككل',\n",
       " 'مسارا',\n",
       " 'جديدا',\n",
       " 'للتطور',\n",
       " 'بمفهوم',\n",
       " 'أوسع',\n",
       " 'بكثير',\n",
       " 'كان',\n",
       " 'موجودا',\n",
       " 'قبل',\n",
       " ',',\n",
       " 'وقم',\n",
       " 'وسيلة',\n",
       " 'للتنمية',\n",
       " 'الموضوع',\n",
       " 'مستقبلا',\n",
       " '.',\n",
       " 'وجانب',\n",
       " 'آخر',\n",
       " 'مهم',\n",
       " 'لإدخال',\n",
       " 'أفكار',\n",
       " 'الجبر',\n",
       " 'أنه',\n",
       " 'سمح',\n",
       " 'بتطبيق',\n",
       " 'الرياضيات',\n",
       " 'نفسها',\n",
       " 'بطريقة',\n",
       " 'تحدث',\n",
       " 'قبل']"
      ]
     },
     "execution_count": 18,
     "metadata": {},
     "output_type": "execute_result"
    }
   ],
   "source": [
    "# Arabic Text\n",
    "filter_text_arabic = [\n",
    "    word for word in words_arabic if word not in stop_words_arabic\n",
    "]\n",
    "\n",
    "filter_text_arabic"
   ]
  },
  {
   "cell_type": "markdown",
   "id": "ceb49ea2",
   "metadata": {},
   "source": [
    "### Stemming"
   ]
  },
  {
   "cell_type": "markdown",
   "id": "c7d28141",
   "metadata": {},
   "source": [
    "##### Stemming is the process of reducing a word to its word stem that affixes to suffixes and prefixes or to the roots of words known as a lemma"
   ]
  },
  {
   "cell_type": "code",
   "execution_count": 19,
   "id": "304ddc14",
   "metadata": {},
   "outputs": [],
   "source": [
    "# English text"
   ]
  },
  {
   "cell_type": "code",
   "execution_count": 20,
   "id": "5d46ef48",
   "metadata": {},
   "outputs": [],
   "source": [
    "from nltk.stem import PorterStemmer"
   ]
  },
  {
   "cell_type": "markdown",
   "id": "3c180b73",
   "metadata": {},
   "source": [
    "##### There are different stemmers available in different languages in Python nltk. For the English language, you can choose between PorterStammer or LancasterStammer, PorterStemmer being the oldest one originally developed in 1979.\n",
    "##### The PorterStemmer algorithm does not follow linguistics rather a set of 05 rules for different cases that are applied in phases (step by step) to generate stems"
   ]
  },
  {
   "cell_type": "code",
   "execution_count": 21,
   "id": "6161310c",
   "metadata": {},
   "outputs": [],
   "source": [
    "porterStem= PorterStemmer()"
   ]
  },
  {
   "cell_type": "code",
   "execution_count": 22,
   "id": "6839a6c1",
   "metadata": {},
   "outputs": [
    {
     "data": {
      "text/plain": [
       "['perhap',\n",
       " 'one',\n",
       " 'signific',\n",
       " 'advanc',\n",
       " 'made',\n",
       " 'arab',\n",
       " 'mathemat',\n",
       " 'began',\n",
       " 'time',\n",
       " 'work',\n",
       " 'al-khwarizmi',\n",
       " ',',\n",
       " 'name',\n",
       " 'begin',\n",
       " 'algebra',\n",
       " '.',\n",
       " 'import',\n",
       " 'understand',\n",
       " 'signific',\n",
       " 'new',\n",
       " 'idea',\n",
       " '.',\n",
       " 'revolutionari',\n",
       " 'move',\n",
       " 'away',\n",
       " 'greek',\n",
       " 'concept',\n",
       " 'mathemat',\n",
       " 'essenti',\n",
       " 'geometri',\n",
       " '.',\n",
       " 'algebra',\n",
       " 'unifi',\n",
       " 'theori',\n",
       " 'allowedr',\n",
       " 'number',\n",
       " ',',\n",
       " 'irrat',\n",
       " 'number',\n",
       " ',',\n",
       " 'geometr',\n",
       " 'magnitud',\n",
       " ',',\n",
       " 'etc.',\n",
       " ',',\n",
       " 'treat',\n",
       " '``',\n",
       " 'algebra',\n",
       " 'object',\n",
       " \"''\",\n",
       " '.',\n",
       " 'gave',\n",
       " 'mathemat',\n",
       " 'whole',\n",
       " 'new',\n",
       " 'develop',\n",
       " 'path',\n",
       " 'much',\n",
       " 'broader',\n",
       " 'concept',\n",
       " 'exist',\n",
       " ',',\n",
       " 'provid',\n",
       " 'vehicl',\n",
       " 'futur',\n",
       " 'develop',\n",
       " 'subject',\n",
       " '.',\n",
       " 'anoth',\n",
       " 'import',\n",
       " 'aspect',\n",
       " 'introduct',\n",
       " 'algebra',\n",
       " 'idea',\n",
       " 'allow',\n",
       " 'mathemat',\n",
       " 'appli',\n",
       " 'itselfin',\n",
       " 'way',\n",
       " 'happen',\n",
       " '.']"
      ]
     },
     "execution_count": 22,
     "metadata": {},
     "output_type": "execute_result"
    }
   ],
   "source": [
    "stem_words_english= [porterStem.stem(word) for word in filter_text_english]\n",
    "stem_words_english"
   ]
  },
  {
   "cell_type": "code",
   "execution_count": 23,
   "id": "3c8e5ba2",
   "metadata": {},
   "outputs": [],
   "source": [
    "# Arabic text"
   ]
  },
  {
   "cell_type": "markdown",
   "id": "d6fe02af",
   "metadata": {},
   "source": [
    "##### Python nltk provides not only two English stemmers: PorterStemmer and LancasterStemmer but also a lot of non-English stemmers as part of SnowballStemmers, ISRIStemmer, RSLPSStemmer. \n",
    "##### Python NLTK included ISRIStemmer, is an Arabic stemmer."
   ]
  },
  {
   "cell_type": "code",
   "execution_count": 24,
   "id": "15dc6c1c",
   "metadata": {},
   "outputs": [],
   "source": [
    "from nltk.stem.isri import ISRIStemmer"
   ]
  },
  {
   "cell_type": "code",
   "execution_count": 25,
   "id": "6e3d1708",
   "metadata": {},
   "outputs": [],
   "source": [
    "arabic_stemmer = ISRIStemmer()"
   ]
  },
  {
   "cell_type": "code",
   "execution_count": 26,
   "id": "3c82062a",
   "metadata": {},
   "outputs": [
    {
     "data": {
      "text/plain": [
       "['ربم',\n",
       " 'كانت',\n",
       " 'احد',\n",
       " 'اهم',\n",
       " 'تطر',\n",
       " 'قمت',\n",
       " 'ريض',\n",
       " 'عرب',\n",
       " 'بدأ',\n",
       " 'وقت',\n",
       " 'عمل',\n",
       " 'خوارزم',\n",
       " 'وهي',\n",
       " 'بدي',\n",
       " 'جبر',\n",
       " ',',\n",
       " 'مهم',\n",
       " 'فهم',\n",
       " 'كانت',\n",
       " 'فكر',\n",
       " 'جدد',\n",
       " 'همة',\n",
       " ',',\n",
       " 'فقد',\n",
       " 'كانت',\n",
       " 'خطة',\n",
       " 'نور',\n",
       " 'بعد',\n",
       " 'فهم',\n",
       " 'يون',\n",
       " 'ريض',\n",
       " 'جوهر',\n",
       " 'هندس',\n",
       " ',',\n",
       " 'جبر',\n",
       " 'کان',\n",
       " 'نظر',\n",
       " 'وحد',\n",
       " 'تتح',\n",
       " 'عدد',\n",
       " 'كسر',\n",
       " 'عدد',\n",
       " 'الل',\n",
       " 'كسر',\n",
       " ',',\n",
       " 'مقادير',\n",
       " 'هندس',\n",
       " 'وغر',\n",
       " ',',\n",
       " 'عمل',\n",
       " 'انه',\n",
       " 'جسم',\n",
       " 'جبر',\n",
       " ',',\n",
       " 'أعط',\n",
       " 'ريض',\n",
       " 'ككل',\n",
       " 'سرا',\n",
       " 'جدد',\n",
       " 'تطر',\n",
       " 'فهم',\n",
       " 'وسع',\n",
       " 'كثر',\n",
       " 'كان',\n",
       " 'وجد',\n",
       " 'قبل',\n",
       " ',',\n",
       " 'وقم',\n",
       " 'وسل',\n",
       " 'نمي',\n",
       " 'وضع',\n",
       " 'قبل',\n",
       " '.',\n",
       " 'جنب',\n",
       " 'اخر',\n",
       " 'مهم',\n",
       " 'إدخال',\n",
       " 'فكر',\n",
       " 'جبر',\n",
       " 'انه',\n",
       " 'سمح',\n",
       " 'طبق',\n",
       " 'ريض',\n",
       " 'نفس',\n",
       " 'طرق',\n",
       " 'حدث',\n",
       " 'قبل']"
      ]
     },
     "execution_count": 26,
     "metadata": {},
     "output_type": "execute_result"
    }
   ],
   "source": [
    "stem_words_arabic = [arabic_stemmer.stem(words_arabic) for words_arabic in filter_text_arabic]\n",
    "stem_words_arabic"
   ]
  },
  {
   "cell_type": "code",
   "execution_count": 27,
   "id": "0c947818",
   "metadata": {},
   "outputs": [],
   "source": [
    "# the output is correct for example:\n",
    "#    بطريقة  became طرق\n",
    "#     الجبر  became جبر \n",
    "\n",
    "# But also some outputs are not correct for example:\n",
    "#  كانت must become كان \n",
    "# مقادير must become قدر "
   ]
  },
  {
   "cell_type": "markdown",
   "id": "760b03fb",
   "metadata": {},
   "source": [
    "##### But the majority is correct for the reason that ISRI stemmer does not use root dictionary. Also, if a root is not found, ISRI stemmer returned normalized form, rather than returning the original unmodified word."
   ]
  },
  {
   "cell_type": "markdown",
   "id": "6e43a84e",
   "metadata": {},
   "source": [
    "### Pos Tagging"
   ]
  },
  {
   "cell_type": "markdown",
   "id": "a05e0593",
   "metadata": {},
   "source": [
    "##### POS Tagging in NLTK is a process to mark up the words in text format for a particular part of a speech based on its definition and context.\n",
    "##### Some NLTK POS tagging examples are: CC, CD, EX, JJ, MD, NNP, PDT, etc.\n",
    "##### POS tagger is used to assign grammatical information of each word of the sentence"
   ]
  },
  {
   "cell_type": "code",
   "execution_count": 28,
   "id": "fa5eeadd",
   "metadata": {},
   "outputs": [
    {
     "name": "stdout",
     "output_type": "stream",
     "text": [
      "$: dollar\n",
      "    $ -$ --$ A$ C$ HK$ M$ NZ$ S$ U.S.$ US$\n",
      "'': closing quotation mark\n",
      "    ' ''\n",
      "(: opening parenthesis\n",
      "    ( [ {\n",
      "): closing parenthesis\n",
      "    ) ] }\n",
      ",: comma\n",
      "    ,\n",
      "--: dash\n",
      "    --\n",
      ".: sentence terminator\n",
      "    . ! ?\n",
      ":: colon or ellipsis\n",
      "    : ; ...\n",
      "CC: conjunction, coordinating\n",
      "    & 'n and both but either et for less minus neither nor or plus so\n",
      "    therefore times v. versus vs. whether yet\n",
      "CD: numeral, cardinal\n",
      "    mid-1890 nine-thirty forty-two one-tenth ten million 0.5 one forty-\n",
      "    seven 1987 twenty '79 zero two 78-degrees eighty-four IX '60s .025\n",
      "    fifteen 271,124 dozen quintillion DM2,000 ...\n",
      "DT: determiner\n",
      "    all an another any both del each either every half la many much nary\n",
      "    neither no some such that the them these this those\n",
      "EX: existential there\n",
      "    there\n",
      "FW: foreign word\n",
      "    gemeinschaft hund ich jeux habeas Haementeria Herr K'ang-si vous\n",
      "    lutihaw alai je jour objets salutaris fille quibusdam pas trop Monte\n",
      "    terram fiche oui corporis ...\n",
      "IN: preposition or conjunction, subordinating\n",
      "    astride among uppon whether out inside pro despite on by throughout\n",
      "    below within for towards near behind atop around if like until below\n",
      "    next into if beside ...\n",
      "JJ: adjective or numeral, ordinal\n",
      "    third ill-mannered pre-war regrettable oiled calamitous first separable\n",
      "    ectoplasmic battery-powered participatory fourth still-to-be-named\n",
      "    multilingual multi-disciplinary ...\n",
      "JJR: adjective, comparative\n",
      "    bleaker braver breezier briefer brighter brisker broader bumper busier\n",
      "    calmer cheaper choosier cleaner clearer closer colder commoner costlier\n",
      "    cozier creamier crunchier cuter ...\n",
      "JJS: adjective, superlative\n",
      "    calmest cheapest choicest classiest cleanest clearest closest commonest\n",
      "    corniest costliest crassest creepiest crudest cutest darkest deadliest\n",
      "    dearest deepest densest dinkiest ...\n",
      "LS: list item marker\n",
      "    A A. B B. C C. D E F First G H I J K One SP-44001 SP-44002 SP-44005\n",
      "    SP-44007 Second Third Three Two * a b c d first five four one six three\n",
      "    two\n",
      "MD: modal auxiliary\n",
      "    can cannot could couldn't dare may might must need ought shall should\n",
      "    shouldn't will would\n",
      "NN: noun, common, singular or mass\n",
      "    common-carrier cabbage knuckle-duster Casino afghan shed thermostat\n",
      "    investment slide humour falloff slick wind hyena override subhumanity\n",
      "    machinist ...\n",
      "NNP: noun, proper, singular\n",
      "    Motown Venneboerger Czestochwa Ranzer Conchita Trumplane Christos\n",
      "    Oceanside Escobar Kreisler Sawyer Cougar Yvette Ervin ODI Darryl CTCA\n",
      "    Shannon A.K.C. Meltex Liverpool ...\n",
      "NNPS: noun, proper, plural\n",
      "    Americans Americas Amharas Amityvilles Amusements Anarcho-Syndicalists\n",
      "    Andalusians Andes Andruses Angels Animals Anthony Antilles Antiques\n",
      "    Apache Apaches Apocrypha ...\n",
      "NNS: noun, common, plural\n",
      "    undergraduates scotches bric-a-brac products bodyguards facets coasts\n",
      "    divestitures storehouses designs clubs fragrances averages\n",
      "    subjectivists apprehensions muses factory-jobs ...\n",
      "PDT: pre-determiner\n",
      "    all both half many quite such sure this\n",
      "POS: genitive marker\n",
      "    ' 's\n",
      "PRP: pronoun, personal\n",
      "    hers herself him himself hisself it itself me myself one oneself ours\n",
      "    ourselves ownself self she thee theirs them themselves they thou thy us\n",
      "PRP$: pronoun, possessive\n",
      "    her his mine my our ours their thy your\n",
      "RB: adverb\n",
      "    occasionally unabatingly maddeningly adventurously professedly\n",
      "    stirringly prominently technologically magisterially predominately\n",
      "    swiftly fiscally pitilessly ...\n",
      "RBR: adverb, comparative\n",
      "    further gloomier grander graver greater grimmer harder harsher\n",
      "    healthier heavier higher however larger later leaner lengthier less-\n",
      "    perfectly lesser lonelier longer louder lower more ...\n",
      "RBS: adverb, superlative\n",
      "    best biggest bluntest earliest farthest first furthest hardest\n",
      "    heartiest highest largest least less most nearest second tightest worst\n",
      "RP: particle\n",
      "    aboard about across along apart around aside at away back before behind\n",
      "    by crop down ever fast for forth from go high i.e. in into just later\n",
      "    low more off on open out over per pie raising start teeth that through\n",
      "    under unto up up-pp upon whole with you\n",
      "SYM: symbol\n",
      "    % & ' '' ''. ) ). * + ,. < = > @ A[fj] U.S U.S.S.R * ** ***\n",
      "TO: \"to\" as preposition or infinitive marker\n",
      "    to\n",
      "UH: interjection\n",
      "    Goodbye Goody Gosh Wow Jeepers Jee-sus Hubba Hey Kee-reist Oops amen\n",
      "    huh howdy uh dammit whammo shucks heck anyways whodunnit honey golly\n",
      "    man baby diddle hush sonuvabitch ...\n",
      "VB: verb, base form\n",
      "    ask assemble assess assign assume atone attention avoid bake balkanize\n",
      "    bank begin behold believe bend benefit bevel beware bless boil bomb\n",
      "    boost brace break bring broil brush build ...\n",
      "VBD: verb, past tense\n",
      "    dipped pleaded swiped regummed soaked tidied convened halted registered\n",
      "    cushioned exacted snubbed strode aimed adopted belied figgered\n",
      "    speculated wore appreciated contemplated ...\n",
      "VBG: verb, present participle or gerund\n",
      "    telegraphing stirring focusing angering judging stalling lactating\n",
      "    hankerin' alleging veering capping approaching traveling besieging\n",
      "    encrypting interrupting erasing wincing ...\n",
      "VBN: verb, past participle\n",
      "    multihulled dilapidated aerosolized chaired languished panelized used\n",
      "    experimented flourished imitated reunifed factored condensed sheared\n",
      "    unsettled primed dubbed desired ...\n",
      "VBP: verb, present tense, not 3rd person singular\n",
      "    predominate wrap resort sue twist spill cure lengthen brush terminate\n",
      "    appear tend stray glisten obtain comprise detest tease attract\n",
      "    emphasize mold postpone sever return wag ...\n",
      "VBZ: verb, present tense, 3rd person singular\n",
      "    bases reconstructs marks mixes displeases seals carps weaves snatches\n",
      "    slumps stretches authorizes smolders pictures emerges stockpiles\n",
      "    seduces fizzes uses bolsters slaps speaks pleads ...\n",
      "WDT: WH-determiner\n",
      "    that what whatever which whichever\n",
      "WP: WH-pronoun\n",
      "    that what whatever whatsoever which who whom whosoever\n",
      "WP$: WH-pronoun, possessive\n",
      "    whose\n",
      "WRB: Wh-adverb\n",
      "    how however whence whenever where whereby whereever wherein whereof why\n",
      "``: opening quotation mark\n",
      "    ` ``\n"
     ]
    },
    {
     "name": "stderr",
     "output_type": "stream",
     "text": [
      "[nltk_data] Downloading package tagsets to\n",
      "[nltk_data]     C:\\Users\\admin\\AppData\\Roaming\\nltk_data...\n",
      "[nltk_data]   Package tagsets is already up-to-date!\n"
     ]
    }
   ],
   "source": [
    "# documentation about nltk pos tagging\n",
    "nltk.download('tagsets')\n",
    "nltk.help.upenn_tagset()"
   ]
  },
  {
   "cell_type": "code",
   "execution_count": 29,
   "id": "9716d9c6",
   "metadata": {},
   "outputs": [
    {
     "name": "stderr",
     "output_type": "stream",
     "text": [
      "[nltk_data] Downloading package averaged_perceptron_tagger to\n",
      "[nltk_data]     C:\\Users\\admin\\AppData\\Roaming\\nltk_data...\n",
      "[nltk_data]   Package averaged_perceptron_tagger is already up-to-\n",
      "[nltk_data]       date!\n"
     ]
    },
    {
     "data": {
      "text/plain": [
       "True"
      ]
     },
     "execution_count": 29,
     "metadata": {},
     "output_type": "execute_result"
    }
   ],
   "source": [
    "nltk.download('averaged_perceptron_tagger')"
   ]
  },
  {
   "cell_type": "code",
   "execution_count": 30,
   "id": "52daae83",
   "metadata": {},
   "outputs": [],
   "source": [
    "pos_tag_english= nltk.pos_tag(words_english)"
   ]
  },
  {
   "cell_type": "markdown",
   "id": "ee6f82c9",
   "metadata": {},
   "source": [
    "### Lemmatizing"
   ]
  },
  {
   "cell_type": "markdown",
   "id": "fc1f4840",
   "metadata": {},
   "source": [
    "##### Lemmatization is the process of grouping together the different inflected forms of a word so they can be analysed as a single item"
   ]
  },
  {
   "cell_type": "code",
   "execution_count": 31,
   "id": "ea9f544f",
   "metadata": {},
   "outputs": [],
   "source": [
    "from nltk.stem import WordNetLemmatizer"
   ]
  },
  {
   "cell_type": "code",
   "execution_count": 32,
   "id": "f3cf99ac",
   "metadata": {},
   "outputs": [],
   "source": [
    "lemmatizer = WordNetLemmatizer()"
   ]
  },
  {
   "cell_type": "code",
   "execution_count": 33,
   "id": "716114d2",
   "metadata": {},
   "outputs": [
    {
     "name": "stderr",
     "output_type": "stream",
     "text": [
      "[nltk_data] Downloading package wordnet to\n",
      "[nltk_data]     C:\\Users\\admin\\AppData\\Roaming\\nltk_data...\n",
      "[nltk_data]   Package wordnet is already up-to-date!\n"
     ]
    },
    {
     "data": {
      "text/plain": [
       "['perhaps',\n",
       " 'one',\n",
       " 'of',\n",
       " 'the',\n",
       " 'most',\n",
       " 'significant',\n",
       " 'advance',\n",
       " 'made',\n",
       " 'by',\n",
       " 'arabic',\n",
       " 'mathematics',\n",
       " 'began',\n",
       " 'at',\n",
       " 'this',\n",
       " 'time',\n",
       " 'with',\n",
       " 'the',\n",
       " 'work',\n",
       " 'of',\n",
       " 'al-khwarizmi',\n",
       " ',',\n",
       " 'namely',\n",
       " 'the',\n",
       " 'beginning',\n",
       " 'of',\n",
       " 'algebra',\n",
       " '.',\n",
       " 'it',\n",
       " 'is',\n",
       " 'important',\n",
       " 'to',\n",
       " 'understand',\n",
       " 'just',\n",
       " 'how',\n",
       " 'significant',\n",
       " 'this',\n",
       " 'new',\n",
       " 'idea',\n",
       " 'wa',\n",
       " '.',\n",
       " 'it',\n",
       " 'wa',\n",
       " 'a',\n",
       " 'revolutionary',\n",
       " 'move',\n",
       " 'away',\n",
       " 'from',\n",
       " 'the',\n",
       " 'greek',\n",
       " 'concept',\n",
       " 'of',\n",
       " 'mathematics',\n",
       " 'which',\n",
       " 'wa',\n",
       " 'essentially',\n",
       " 'geometry',\n",
       " '.',\n",
       " 'algebra',\n",
       " 'wa',\n",
       " 'a',\n",
       " 'unifying',\n",
       " 'theory',\n",
       " 'which',\n",
       " 'allowedrational',\n",
       " 'number',\n",
       " ',',\n",
       " 'irrational',\n",
       " 'number',\n",
       " ',',\n",
       " 'geometrical',\n",
       " 'magnitude',\n",
       " ',',\n",
       " 'etc.',\n",
       " ',',\n",
       " 'to',\n",
       " 'all',\n",
       " 'be',\n",
       " 'treated',\n",
       " 'a',\n",
       " '``',\n",
       " 'algebraic',\n",
       " 'object',\n",
       " \"''\",\n",
       " '.',\n",
       " 'it',\n",
       " 'gave',\n",
       " 'mathematics',\n",
       " 'a',\n",
       " 'whole',\n",
       " 'new',\n",
       " 'development',\n",
       " 'path',\n",
       " 'so',\n",
       " 'much',\n",
       " 'broader',\n",
       " 'in',\n",
       " 'concept',\n",
       " 'to',\n",
       " 'that',\n",
       " 'which',\n",
       " 'had',\n",
       " 'existed',\n",
       " 'before',\n",
       " ',',\n",
       " 'and',\n",
       " 'provided',\n",
       " 'a',\n",
       " 'vehicle',\n",
       " 'for',\n",
       " 'future',\n",
       " 'development',\n",
       " 'of',\n",
       " 'the',\n",
       " 'subject',\n",
       " '.',\n",
       " 'another',\n",
       " 'important',\n",
       " 'aspect',\n",
       " 'of',\n",
       " 'the',\n",
       " 'introduction',\n",
       " 'of',\n",
       " 'algebraic',\n",
       " 'idea',\n",
       " 'wa',\n",
       " 'that',\n",
       " 'it',\n",
       " 'allowed',\n",
       " 'mathematics',\n",
       " 'to',\n",
       " 'be',\n",
       " 'applied',\n",
       " 'to',\n",
       " 'itselfin',\n",
       " 'a',\n",
       " 'way',\n",
       " 'which',\n",
       " 'had',\n",
       " 'not',\n",
       " 'happened',\n",
       " 'before',\n",
       " '.']"
      ]
     },
     "execution_count": 33,
     "metadata": {},
     "output_type": "execute_result"
    }
   ],
   "source": [
    "nltk.download('wordnet')\n",
    "lemmatized_words = [lemmatizer.lemmatize(word) for word in words_english]\n",
    "lemmatized_words"
   ]
  },
  {
   "cell_type": "markdown",
   "id": "353951c1",
   "metadata": {},
   "source": [
    "### Chunking"
   ]
  },
  {
   "cell_type": "markdown",
   "id": "169cab81",
   "metadata": {},
   "source": [
    "##### Now that we know the parts of speech, we can do what is called chunking, and group words into hopefully meaningful chunks. One of the main goals of chunking is to group into what are known as \"noun phrases\""
   ]
  },
  {
   "cell_type": "code",
   "execution_count": 34,
   "id": "5a246a7e",
   "metadata": {},
   "outputs": [],
   "source": [
    "grammar_chosen = \"NP : {<DT>?<JJ>*<NN>}\""
   ]
  },
  {
   "cell_type": "code",
   "execution_count": 35,
   "id": "cd4b783c",
   "metadata": {},
   "outputs": [],
   "source": [
    "parser_chunk= nltk.RegexpParser(grammar_chosen)"
   ]
  },
  {
   "cell_type": "code",
   "execution_count": 36,
   "id": "b48d48e3",
   "metadata": {},
   "outputs": [],
   "source": [
    "chunkGram = r\"\"\"Chunk: {<RB.?>*<VB.?>*<NNP>+<NN>?}\"\"\""
   ]
  },
  {
   "cell_type": "code",
   "execution_count": 37,
   "id": "abdf1967",
   "metadata": {},
   "outputs": [],
   "source": [
    "chunkParser = nltk.RegexpParser(chunkGram)"
   ]
  },
  {
   "cell_type": "code",
   "execution_count": 38,
   "id": "e7bf9283",
   "metadata": {},
   "outputs": [],
   "source": [
    "chunked = chunkParser.parse(pos_tag_english)"
   ]
  },
  {
   "cell_type": "code",
   "execution_count": 39,
   "id": "a91d8282",
   "metadata": {},
   "outputs": [],
   "source": [
    "chunked.draw()"
   ]
  },
  {
   "cell_type": "code",
   "execution_count": 40,
   "id": "8b69ca3f",
   "metadata": {},
   "outputs": [
    {
     "name": "stdout",
     "output_type": "stream",
     "text": [
      "(S\n",
      "  perhaps/RB\n",
      "  one/CD\n",
      "  of/IN\n",
      "  the/DT\n",
      "  most/RBS\n",
      "  significant/JJ\n",
      "  advances/NNS\n",
      "  made/VBN\n",
      "  by/IN\n",
      "  arabic/JJ\n",
      "  mathematics/NNS\n",
      "  began/VBD\n",
      "  at/IN\n",
      "  this/DT\n",
      "  time/NN\n",
      "  with/IN\n",
      "  the/DT\n",
      "  work/NN\n",
      "  of/IN\n",
      "  al-khwarizmi/JJ\n",
      "  ,/,\n",
      "  namely/RB\n",
      "  the/DT\n",
      "  beginnings/NNS\n",
      "  of/IN\n",
      "  algebra/NN\n",
      "  ./.\n",
      "  it/PRP\n",
      "  is/VBZ\n",
      "  important/JJ\n",
      "  to/TO\n",
      "  understand/VB\n",
      "  just/RB\n",
      "  how/WRB\n",
      "  significant/JJ\n",
      "  this/DT\n",
      "  new/JJ\n",
      "  idea/NN\n",
      "  was/VBD\n",
      "  ./.\n",
      "  it/PRP\n",
      "  was/VBD\n",
      "  a/DT\n",
      "  revolutionary/JJ\n",
      "  move/NN\n",
      "  away/RB\n",
      "  from/IN\n",
      "  the/DT\n",
      "  greek/JJ\n",
      "  concept/NN\n",
      "  of/IN\n",
      "  mathematics/NNS\n",
      "  which/WDT\n",
      "  was/VBD\n",
      "  essentially/RB\n",
      "  geometry/JJ\n",
      "  ./.\n",
      "  algebra/NN\n",
      "  was/VBD\n",
      "  a/DT\n",
      "  unifying/JJ\n",
      "  theory/NN\n",
      "  which/WDT\n",
      "  allowedrational/JJ\n",
      "  numbers/NNS\n",
      "  ,/,\n",
      "  irrational/JJ\n",
      "  numbers/NNS\n",
      "  ,/,\n",
      "  geometrical/JJ\n",
      "  magnitudes/NNS\n",
      "  ,/,\n",
      "  etc./NN\n",
      "  ,/,\n",
      "  to/TO\n",
      "  all/DT\n",
      "  be/VB\n",
      "  treated/VBN\n",
      "  as/IN\n",
      "  ``/``\n",
      "  algebraic/JJ\n",
      "  objects/NNS\n",
      "  ''/''\n",
      "  ./.\n",
      "  it/PRP\n",
      "  gave/VBD\n",
      "  mathematics/NNS\n",
      "  a/DT\n",
      "  whole/JJ\n",
      "  new/JJ\n",
      "  development/NN\n",
      "  path/NN\n",
      "  so/RB\n",
      "  much/JJ\n",
      "  broader/JJR\n",
      "  in/IN\n",
      "  concept/NN\n",
      "  to/TO\n",
      "  that/DT\n",
      "  which/WDT\n",
      "  had/VBD\n",
      "  existed/VBN\n",
      "  before/IN\n",
      "  ,/,\n",
      "  and/CC\n",
      "  provided/VBD\n",
      "  a/DT\n",
      "  vehicle/NN\n",
      "  for/IN\n",
      "  future/JJ\n",
      "  development/NN\n",
      "  of/IN\n",
      "  the/DT\n",
      "  subject/NN\n",
      "  ./.\n",
      "  another/DT\n",
      "  important/JJ\n",
      "  aspect/NN\n",
      "  of/IN\n",
      "  the/DT\n",
      "  introduction/NN\n",
      "  of/IN\n",
      "  algebraic/JJ\n",
      "  ideas/NNS\n",
      "  was/VBD\n",
      "  that/IN\n",
      "  it/PRP\n",
      "  allowed/VBD\n",
      "  mathematics/NNS\n",
      "  to/TO\n",
      "  be/VB\n",
      "  applied/VBN\n",
      "  to/TO\n",
      "  itselfin/VB\n",
      "  a/DT\n",
      "  way/NN\n",
      "  which/WDT\n",
      "  had/VBD\n",
      "  not/RB\n",
      "  happened/VBN\n",
      "  before/IN\n",
      "  ./.)\n"
     ]
    }
   ],
   "source": [
    "print(chunked)"
   ]
  }
 ],
 "metadata": {
  "kernelspec": {
   "display_name": "Python 3",
   "language": "python",
   "name": "python3"
  },
  "language_info": {
   "codemirror_mode": {
    "name": "ipython",
    "version": 3
   },
   "file_extension": ".py",
   "mimetype": "text/x-python",
   "name": "python",
   "nbconvert_exporter": "python",
   "pygments_lexer": "ipython3",
   "version": "3.8.8"
  }
 },
 "nbformat": 4,
 "nbformat_minor": 5
}
